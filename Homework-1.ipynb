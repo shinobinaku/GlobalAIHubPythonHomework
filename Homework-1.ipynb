{
 "cells": [
  {
   "cell_type": "code",
   "execution_count": 2,
   "metadata": {},
   "outputs": [
    {
     "name": "stdin",
     "output_type": "stream",
     "text": [
      "Lütfen bir değer giriniz: 3.14\n"
     ]
    },
    {
     "name": "stdout",
     "output_type": "stream",
     "text": [
      "Birinci girdiğiniz değerin tipi: <class 'float'>\n",
      " \n"
     ]
    },
    {
     "name": "stdin",
     "output_type": "stream",
     "text": [
      "Lütfen ikinci değeri giriniz: 8\n"
     ]
    },
    {
     "name": "stdout",
     "output_type": "stream",
     "text": [
      "İkinci girdiğiniz değerin tipi: <class 'int'>\n",
      " \n"
     ]
    },
    {
     "name": "stdin",
     "output_type": "stream",
     "text": [
      "Lütfen üçüncü değeri giriniz: 5\n"
     ]
    },
    {
     "name": "stdout",
     "output_type": "stream",
     "text": [
      "Üçüncü girdiğiniz değerin tipi: <class 'int'>\n",
      " \n"
     ]
    },
    {
     "name": "stdin",
     "output_type": "stream",
     "text": [
      "Lütfen dördüncü değeri giriniz: 2.65\n"
     ]
    },
    {
     "name": "stdout",
     "output_type": "stream",
     "text": [
      "Dördüncü girdiğiniz değerin tipi: <class 'float'>\n",
      " \n"
     ]
    },
    {
     "name": "stdin",
     "output_type": "stream",
     "text": [
      "Lütfen son değeri sayıyla değil yazıyla giriniz: dokuz\n"
     ]
    },
    {
     "name": "stdout",
     "output_type": "stream",
     "text": [
      "Son girdiğiniz değerin tipi: <class 'str'>\n"
     ]
    }
   ],
   "source": [
    "deger1 = float(input(\"Lütfen bir değer giriniz:\"))\n",
    "print(f'Birinci girdiğiniz değerin tipi: {type(deger1)}')\n",
    "print(\" \")\n",
    "deger2 = int(input(\"Lütfen ikinci değeri giriniz:\"))\n",
    "dgr2 = type(deger2)\n",
    "print(\"İkinci girdiğiniz değerin tipi: {}\".format(dgr2))\n",
    "print(\" \")\n",
    "deger3 = int(input(\"Lütfen üçüncü değeri giriniz:\"))\n",
    "print(\"Üçüncü girdiğiniz değerin tipi: {}\".format(type(deger3)))\n",
    "print(\" \")\n",
    "deger4 = float(input(\"Lütfen dördüncü değeri giriniz:\"))\n",
    "print(f'Dördüncü girdiğiniz değerin tipi: {type(deger4)}')\n",
    "print(\" \")\n",
    "deger5 = input(\"Lütfen son değeri sayıyla değil yazıyla giriniz:\")\n",
    "print(\"Son girdiğiniz değerin tipi: {}\".format(type(deger5)))"
   ]
  },
  {
   "cell_type": "code",
   "execution_count": null,
   "metadata": {},
   "outputs": [],
   "source": []
  }
 ],
 "metadata": {
  "kernelspec": {
   "display_name": "Python 3",
   "language": "python",
   "name": "python3"
  },
  "language_info": {
   "codemirror_mode": {
    "name": "ipython",
    "version": 3
   },
   "file_extension": ".py",
   "mimetype": "text/x-python",
   "name": "python",
   "nbconvert_exporter": "python",
   "pygments_lexer": "ipython3",
   "version": "3.9.1"
  }
 },
 "nbformat": 4,
 "nbformat_minor": 4
}
