{
 "cells": [
  {
   "cell_type": "code",
   "execution_count": 9,
   "metadata": {},
   "outputs": [
    {
     "name": "stdout",
     "output_type": "stream",
     "text": [
      "ADAM ASMACA OYUNU\n",
      " \n"
     ]
    },
    {
     "name": "stdin",
     "output_type": "stream",
     "text": [
      "Lütfen kullanıcı adınızı giriniz: Ayşe\n"
     ]
    },
    {
     "name": "stdout",
     "output_type": "stream",
     "text": [
      " \n",
      "Oyunumuza hoşgeldiniz Ayşe, kelimeniz:\n",
      "_ _ _ _\n",
      " \n"
     ]
    },
    {
     "name": "stdin",
     "output_type": "stream",
     "text": [
      "Lütfen bir harf tahmin ediniz:  e\n"
     ]
    },
    {
     "name": "stdout",
     "output_type": "stream",
     "text": [
      "Tahmininiz doğru.\n",
      "_ e _ _\n"
     ]
    },
    {
     "name": "stdin",
     "output_type": "stream",
     "text": [
      "Kelimenin tamamını tahmin etmek istiyor musunuz? Bu soruya ['evet' veya 'hayır'] yazarak cevaplandırınız:  hayır\n",
      "Lütfen bir harf tahmin ediniz:  a\n"
     ]
    },
    {
     "name": "stdout",
     "output_type": "stream",
     "text": [
      "Yanlış tahmin!. 4 tane tahmin hakkınız kaldı.\n"
     ]
    },
    {
     "name": "stdin",
     "output_type": "stream",
     "text": [
      "Kelimenin tamamını tahmin etmek istiyor musunuz? Bu soruya ['evet' veya 'hayır'] yazarak cevaplandırınız:  hayır\n",
      "Lütfen bir harf tahmin ediniz:  k\n"
     ]
    },
    {
     "name": "stdout",
     "output_type": "stream",
     "text": [
      "Tahmininiz doğru.\n",
      "k e _ _\n"
     ]
    },
    {
     "name": "stdin",
     "output_type": "stream",
     "text": [
      "Kelimenin tamamını tahmin etmek istiyor musunuz? Bu soruya ['evet' veya 'hayır'] yazarak cevaplandırınız:  hayır\n",
      "Lütfen bir harf tahmin ediniz:  e\n"
     ]
    },
    {
     "name": "stdout",
     "output_type": "stream",
     "text": [
      "Lütfen daha önce tahmin ettiğiniz harfleri tekrar etmeyiniz.\n"
     ]
    },
    {
     "name": "stdin",
     "output_type": "stream",
     "text": [
      "Lütfen bir harf tahmin ediniz:  i\n"
     ]
    },
    {
     "name": "stdout",
     "output_type": "stream",
     "text": [
      "Tahmininiz doğru.\n",
      "k e _ i\n"
     ]
    },
    {
     "name": "stdin",
     "output_type": "stream",
     "text": [
      "Kelimenin tamamını tahmin etmek istiyor musunuz? Bu soruya ['evet' veya 'hayır'] yazarak cevaplandırınız:  evet\n",
      "Lütfen kelimenin tamamını tahmin ediniz:  keçi\n"
     ]
    },
    {
     "name": "stdout",
     "output_type": "stream",
     "text": [
      "Yanlış tahmin ettiniz. 3 tane tahmin hakkınız kaldı.\n"
     ]
    },
    {
     "name": "stdin",
     "output_type": "stream",
     "text": [
      "Lütfen bir harf tahmin ediniz:  d\n"
     ]
    },
    {
     "name": "stdout",
     "output_type": "stream",
     "text": [
      "Tahmininiz doğru.\n",
      "k e d i\n"
     ]
    },
    {
     "name": "stdin",
     "output_type": "stream",
     "text": [
      "Kelimenin tamamını tahmin etmek istiyor musunuz? Bu soruya ['evet' veya 'hayır'] yazarak cevaplandırınız:  evet\n",
      "Lütfen kelimenin tamamını tahmin ediniz:  kedi\n"
     ]
    },
    {
     "name": "stdout",
     "output_type": "stream",
     "text": [
      "Tebrikler bildiniz!...\n"
     ]
    }
   ],
   "source": [
    "print(\"ADAM ASMACA OYUNU\")\n",
    "print(\" \")\n",
    "kullaniciadi = input(\"Lütfen kullanıcı adınızı giriniz:\")\n",
    "print(\" \")\n",
    "if True:\n",
    "    print(\"Oyunumuza hoşgeldiniz \"+ kullaniciadi + \", \" +\"kelimeniz:\")\n",
    "    \n",
    "import random\n",
    "\n",
    "kelimelistesi = [\"cam\",\"kule\",\"bulut\",\"kuş\",\"köpek\",\"bebek\",\"şeker\",\"kedi\"]\n",
    "kelime = random.choice(kelimelistesi) \n",
    "tahminsayisi = 5\n",
    "harfler = [] \n",
    "x = len(kelime)\n",
    "z = list('_' * x)\n",
    "print(' '.join(z), end='\\n')\n",
    "print(\" \")\n",
    "while tahminsayisi > 0:\n",
    "    y = input(\"Lütfen bir harf tahmin ediniz: \")\n",
    "    if y in harfler:\n",
    "        print(\"Lütfen daha önce tahmin ettiğiniz harfleri tekrar etmeyiniz.\")\n",
    "        continue\n",
    "\n",
    "    elif len(y) > 1:\n",
    "        print(\"Lütfen yalnızca bir harf yazınız.\")\n",
    "        continue\n",
    "\n",
    "    elif y not in kelime:   \n",
    "        tahminsayisi -= 1\n",
    "        print(\"Yanlış tahmin!. {} tane tahmin hakkınız kaldı.\".format(tahminsayisi))\n",
    "\n",
    "    else:\n",
    "        for i in range(len(kelime)):\n",
    "            if y == kelime[i]:\n",
    "                print(\"Tahmininiz doğru.\")\n",
    "                z[i] = y\n",
    "                harfler.append(y)\n",
    "        print(' '.join(z), end='\\n')\n",
    "\n",
    "    cevap = input(\"Kelimenin tamamını tahmin etmek istiyor musunuz? Bu soruya ['evet' veya 'hayır'] yazarak cevaplandırınız: \")\n",
    "\n",
    "    if cevap == \"evet\":\n",
    "        tahmin = input(\"Lütfen kelimenin tamamını tahmin ediniz: \")\n",
    "        if tahmin == kelime:\n",
    "            print(\"Tebrikler bildiniz!...\")\n",
    "            break\n",
    "        else:\n",
    "            tahminsayisi -= 1\n",
    "            print(\"Yanlış tahmin ettiniz. {} tane tahmin hakkınız kaldı.\".format(tahminsayisi))\n",
    "\n",
    "\n",
    "    if tahminsayisi == 0:\n",
    "        print(\"Ne yazık ki tahmin hakkınız kalmadı, oyunu kaybettiniz! Zavallı adam asıldı.\")\n",
    "        break"
   ]
  }
 ],
 "metadata": {
  "kernelspec": {
   "display_name": "Python 3",
   "language": "python",
   "name": "python3"
  },
  "language_info": {
   "codemirror_mode": {
    "name": "ipython",
    "version": 3
   },
   "file_extension": ".py",
   "mimetype": "text/x-python",
   "name": "python",
   "nbconvert_exporter": "python",
   "pygments_lexer": "ipython3",
   "version": "3.9.1"
  }
 },
 "nbformat": 4,
 "nbformat_minor": 4
}
