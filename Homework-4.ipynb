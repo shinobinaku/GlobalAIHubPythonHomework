{
 "cells": [
  {
   "cell_type": "code",
   "execution_count": 36,
   "metadata": {},
   "outputs": [
    {
     "name": "stdin",
     "output_type": "stream",
     "text": [
      "Please enter your name:  Merida\n",
      "Please enter your surname:  d\n"
     ]
    },
    {
     "name": "stdout",
     "output_type": "stream",
     "text": [
      "İnvalid username!\n"
     ]
    },
    {
     "name": "stdin",
     "output_type": "stream",
     "text": [
      "Please enter your name:  Merida\n",
      "Please enter your surname:  Redhead\n"
     ]
    },
    {
     "name": "stdout",
     "output_type": "stream",
     "text": [
      "Welcome Merida Redhead!\n",
      "Please select your courses from the below list. You have to choose mininum 3 and maximum 5 courses.\n",
      "['anatomy', 'pathology', 'microbiology', 'biochemistry', 'neurology', 'ophtalmology']\n"
     ]
    },
    {
     "name": "stdin",
     "output_type": "stream",
     "text": [
      "Please select 1. course: anatomy\n",
      "Please select 2. course: pathology\n",
      "Please select 3. course: neurolog\n"
     ]
    },
    {
     "name": "stdout",
     "output_type": "stream",
     "text": [
      "You have entered invalid course. Please choose course from the list!\n"
     ]
    },
    {
     "name": "stdin",
     "output_type": "stream",
     "text": [
      "Please select 3. course: neurology\n"
     ]
    },
    {
     "name": "stdout",
     "output_type": "stream",
     "text": [
      "You have already selected 3 or more courses. If you want to stop choosing please type 'done'.\n"
     ]
    },
    {
     "name": "stdin",
     "output_type": "stream",
     "text": [
      "Please select 4. course: done\n"
     ]
    },
    {
     "name": "stdout",
     "output_type": "stream",
     "text": [
      "You have selected below courses:\n",
      "['anatomy', 'pathology', 'neurology']\n",
      "Please enter your grades for course of anatomy\n"
     ]
    },
    {
     "name": "stdin",
     "output_type": "stream",
     "text": [
      "What is your result of midterm exam:  30\n",
      "What is your result of final exam:  40\n",
      "What is your result of projects exam:  80\n"
     ]
    },
    {
     "name": "stdout",
     "output_type": "stream",
     "text": [
      "Please enter your grades for course of pathology\n"
     ]
    },
    {
     "name": "stdin",
     "output_type": "stream",
     "text": [
      "What is your result of midterm exam:  30\n",
      "What is your result of final exam:  59\n",
      "What is your result of projects exam:  60\n"
     ]
    },
    {
     "name": "stdout",
     "output_type": "stream",
     "text": [
      "Please enter your grades for course of neurology\n"
     ]
    },
    {
     "name": "stdin",
     "output_type": "stream",
     "text": [
      "What is your result of midterm exam:  20\n",
      "What is your result of final exam:  10\n",
      "What is your result of projects exam:  15\n"
     ]
    },
    {
     "name": "stdout",
     "output_type": "stream",
     "text": [
      "You failed in pathology class. Your result is 50 FF\n",
      "You failed in neurology class. Your result is 14 FF\n"
     ]
    },
    {
     "name": "stdin",
     "output_type": "stream",
     "text": [
      "If you want to exit please press 'q':  q\n"
     ]
    }
   ],
   "source": [
    "#Student Management System\n",
    "studentName = \"Merida\"\n",
    "studentSurname = \"Redhead\"\n",
    "\n",
    "lessons = [\"anatomy\", \"pathology\", \"microbiology\", \"biochemistry\", \"neurology\", \"ophtalmology\"]\n",
    "selectedLessons = []\n",
    "greades = {}\n",
    "examNames = [\"midterm\", \"final\", \"projects\"]\n",
    "\n",
    "\n",
    "def checkLessonAvailable(lesson):\n",
    "    isExist = False\n",
    "    for i in lessons:\n",
    "        if i == lesson:\n",
    "            isExist = True\n",
    "            break\n",
    "    return isExist\n",
    "\n",
    "\n",
    "def determinateGrade(examResult):\n",
    "    if examResult > 90:\n",
    "        return \"AA\"\n",
    "    elif 70 < examResult < 90:\n",
    "        return \"BB\"\n",
    "    elif 50 < examResult < 70:\n",
    "        return \"CC\"\n",
    "    elif 30 < examResult < 50:\n",
    "        return \"DD\"\n",
    "    else:\n",
    "        return \"FF\"\n",
    "\n",
    "\n",
    "def detectAvarage(lessonResult):\n",
    "    avarage = (lessonResult[\"midterm\"] * 30) // 100\n",
    "    avarage = avarage + (lessonResult[\"final\"] * 50) // 100\n",
    "    avarage = avarage + (lessonResult[\"projects\"] * 20) // 100\n",
    "    return avarage\n",
    "\n",
    "\n",
    "loginsuccess = False\n",
    "\n",
    "for i in range(3):\n",
    "    name = input(\"Please enter your name: \")\n",
    "    surname= input(\"Please enter your surname: \")\n",
    "    if (name == studentName and surname == studentSurname):\n",
    "        loginsuccess = True\n",
    "        print(\"Welcome\", name + \" \" + surname + \"!\")\n",
    "        break\n",
    "    else:\n",
    "        print(\"İnvalid username!\")        \n",
    "\n",
    "if not loginsuccess:\n",
    "    print(\"Please try again later!\")\n",
    "\n",
    "else:\n",
    "    print(\"Please select your courses from the below list. You have to choose mininum 3 and maximum 5 courses.\")\n",
    "    print(lessons)\n",
    "    while len(selectedLessons) <= 5:\n",
    "        if len(selectedLessons) >= 3:\n",
    "            print(\"You have already selected 3 or more courses. If you want to stop choosing please type 'done'.\")\n",
    "        \n",
    "        selectedLesson = input(f\"Please select {len(selectedLessons) + 1}. course:\")\n",
    "        if selectedLesson == \"done\":\n",
    "            break\n",
    "        else:\n",
    "            if checkLessonAvailable(selectedLesson):\n",
    "                selectedLessons.append(selectedLesson)\n",
    "            else:\n",
    "                print(\"You have entered invalid course. Please choose course from the list!\")\n",
    "    print(\"You have selected below courses:\")\n",
    "    print(selectedLessons)\n",
    "    for s in selectedLessons:\n",
    "        print(f\"Please enter your grades for course of {s}\")\n",
    "        examResultsForSingleLesson = {}\n",
    "        for e in examNames:\n",
    "            examResult = int(input(f\"What is your result of {e} exam: \"))\n",
    "            examResultsForSingleLesson[e] = examResult\n",
    "        greades[s] = examResultsForSingleLesson\n",
    "    for d in greades:\n",
    "        avarage = detectAvarage(greades[d])\n",
    "        grade = determinateGrade(avarage)\n",
    "        if grade == \"FF\":\n",
    "            print(f\"You failed in {d} class. Your result is {avarage} {grade}\")\n",
    "\n",
    "exit = input(\"If you want to exit please press 'q': \")"
   ]
  },
  {
   "cell_type": "code",
   "execution_count": null,
   "metadata": {},
   "outputs": [],
   "source": []
  }
 ],
 "metadata": {
  "kernelspec": {
   "display_name": "Python 3",
   "language": "python",
   "name": "python3"
  },
  "language_info": {
   "codemirror_mode": {
    "name": "ipython",
    "version": 3
   },
   "file_extension": ".py",
   "mimetype": "text/x-python",
   "name": "python",
   "nbconvert_exporter": "python",
   "pygments_lexer": "ipython3",
   "version": "3.9.1"
  }
 },
 "nbformat": 4,
 "nbformat_minor": 4
}
