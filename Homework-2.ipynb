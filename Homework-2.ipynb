{
 "cells": [
  {
   "cell_type": "code",
   "execution_count": 4,
   "metadata": {},
   "outputs": [
    {
     "name": "stdin",
     "output_type": "stream",
     "text": [
      "Lütfen adınızı giriniz:  Elif Özge\n",
      "Lütfen soyadınızı giriniz:  Kutlu\n",
      "Lütfen yaşınızı giriniz:  28\n",
      "Lütfen doğum yılınızı giriniz:  1992\n"
     ]
    },
    {
     "name": "stdout",
     "output_type": "stream",
     "text": [
      "['Elif Özge', 'Kutlu', 28, '1992']\n",
      "Elif Özge\n",
      "Kutlu\n",
      "28\n",
      "1992\n",
      "You can go out to the street.\n"
     ]
    }
   ],
   "source": [
    "listem = []\n",
    "name = input(\"Lütfen adınızı giriniz: \")\n",
    "listem.append(name)\n",
    "surname = input(\"Lütfen soyadınızı giriniz: \")\n",
    "listem.append(surname)\n",
    "age = int(input(\"Lütfen yaşınızı giriniz: \"))\n",
    "listem.append(age)\n",
    "birth = input(\"Lütfen doğum yılınızı giriniz: \")\n",
    "listem.append(birth)\n",
    "\n",
    "print(listem)\n",
    "\n",
    "for i in listem:\n",
    "    print(i)\n",
    "\n",
    "if age < 18:\n",
    "    print(\"You can't go out because it's too dangerous.\")\n",
    "else:\n",
    "    print(\"You can go out to the street.\")"
   ]
  },
  {
   "cell_type": "code",
   "execution_count": null,
   "metadata": {},
   "outputs": [],
   "source": []
  }
 ],
 "metadata": {
  "kernelspec": {
   "display_name": "Python 3",
   "language": "python",
   "name": "python3"
  },
  "language_info": {
   "codemirror_mode": {
    "name": "ipython",
    "version": 3
   },
   "file_extension": ".py",
   "mimetype": "text/x-python",
   "name": "python",
   "nbconvert_exporter": "python",
   "pygments_lexer": "ipython3",
   "version": "3.9.1"
  }
 },
 "nbformat": 4,
 "nbformat_minor": 4
}
