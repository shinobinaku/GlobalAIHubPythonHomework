{
 "cells": [
  {
   "cell_type": "code",
   "execution_count": 12,
   "metadata": {},
   "outputs": [
    {
     "name": "stdin",
     "output_type": "stream",
     "text": [
      "Please enter your first name: Duru\n",
      "Please enter your last name: Kaya\n",
      "Please enter your age: 25\n",
      "Please enter your year of birth: 1995\n"
     ]
    },
    {
     "name": "stdout",
     "output_type": "stream",
     "text": [
      " \n",
      " Your name : Duru \n",
      " Your surname : Kaya \n",
      " Your age : 25 \n",
      " Your year of birth : 1995 \n",
      " \n",
      "You can go out to the street.\n"
     ]
    }
   ],
   "source": [
    "#This is a user identification program.\n",
    "listem = []\n",
    "name = input(\"Please enter your first name:\")\n",
    "listem.append([\"Your name\",name])\n",
    "surname = input(\"Please enter your last name:\")\n",
    "listem.append([\"Your surname\",surname])\n",
    "age = int(input(\"Please enter your age:\"))\n",
    "listem.append([\"Your age\",age])\n",
    "birth = input(\"Please enter your year of birth:\")\n",
    "listem.append([\"Your year of birth\",birth])\n",
    "print(\" \")\n",
    "for i in listem:\n",
    "    print(f\" {i[0]} : {i[1]} \")\n",
    "print(\" \")\n",
    "if age < 18:\n",
    "    print(\"You can't go out because it's too dangerous!\")\n",
    "else:\n",
    "    print(\"You can go out to the street.\")"
   ]
  }
 ],
 "metadata": {
  "kernelspec": {
   "display_name": "Python 3",
   "language": "python",
   "name": "python3"
  },
  "language_info": {
   "codemirror_mode": {
    "name": "ipython",
    "version": 3
   },
   "file_extension": ".py",
   "mimetype": "text/x-python",
   "name": "python",
   "nbconvert_exporter": "python",
   "pygments_lexer": "ipython3",
   "version": "3.9.1"
  }
 },
 "nbformat": 4,
 "nbformat_minor": 4
}
